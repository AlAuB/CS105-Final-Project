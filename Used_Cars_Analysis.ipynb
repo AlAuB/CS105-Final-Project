{
 "cells": [
  {
   "cell_type": "code",
   "execution_count": 3,
   "metadata": {
    "collapsed": true,
    "ExecuteTime": {
     "start_time": "2023-04-19T15:15:01.392825Z",
     "end_time": "2023-04-19T15:15:01.398725Z"
    }
   },
   "outputs": [],
   "source": [
    "# import packages\n",
    "import numpy as np\n",
    "import pandas as pd"
   ]
  },
  {
   "cell_type": "code",
   "execution_count": 4,
   "outputs": [
    {
     "data": {
      "text/plain": "   index          dateCrawled  \\\n0      0  2016-03-24 11:52:17   \n1      1  2016-03-24 10:58:45   \n2      2  2016-03-14 12:52:21   \n3      3  2016-03-17 16:54:04   \n4      4  2016-03-31 17:25:20   \n5      5  2016-04-04 17:36:23   \n6      6  2016-04-01 20:48:51   \n7      7  2016-03-21 18:54:38   \n8      8  2016-04-04 23:42:13   \n9      9  2016-03-17 10:53:50   \n\n                                                name  seller offerType  price  \\\n0                                         Golf_3_1.6  privat   Angebot    480   \n1                               A5_Sportback_2.7_Tdi  privat   Angebot  18300   \n2                     Jeep_Grand_Cherokee_\"Overland\"  privat   Angebot   9800   \n3                                 GOLF_4_1_4__3TÜRER  privat   Angebot   1500   \n4                     Skoda_Fabia_1.4_TDI_PD_Classic  privat   Angebot   3600   \n5  BMW_316i___e36_Limousine___Bastlerfahrzeug__Ex...  privat   Angebot    650   \n6                        Peugeot_206_CC_110_Platinum  privat   Angebot   2200   \n7                       VW_Derby_Bj_80__Scheunenfund  privat   Angebot      0   \n8               Ford_C___Max_Titanium_1_0_L_EcoBoost  privat   Angebot  14500   \n9  VW_Golf_4_5_tuerig_zu_verkaufen_mit_Anhaengerk...  privat   Angebot    999   \n\n    abtest vehicleType  yearOfRegistration    gearbox  ...    model kilometer  \\\n0     test         NaN                1993    manuell  ...     golf    150000   \n1     test       coupe                2011    manuell  ...      NaN    125000   \n2     test         suv                2004  automatik  ...    grand    125000   \n3     test  kleinwagen                2001    manuell  ...     golf    150000   \n4     test  kleinwagen                2008    manuell  ...    fabia     90000   \n5     test   limousine                1995    manuell  ...      3er    150000   \n6     test      cabrio                2004    manuell  ...  2_reihe    150000   \n7     test   limousine                1980    manuell  ...   andere     40000   \n8  control         bus                2014    manuell  ...    c_max     30000   \n9     test  kleinwagen                1998    manuell  ...     golf    150000   \n\n   monthOfRegistration  fuelType       brand notRepairedDamage  \\\n0                    0    benzin  volkswagen               NaN   \n1                    5    diesel        audi                ja   \n2                    8    diesel        jeep               NaN   \n3                    6    benzin  volkswagen              nein   \n4                    7    diesel       skoda              nein   \n5                   10    benzin         bmw                ja   \n6                    8    benzin     peugeot              nein   \n7                    7    benzin  volkswagen              nein   \n8                    8    benzin        ford               NaN   \n9                    0       NaN  volkswagen               NaN   \n\n           dateCreated nrOfPictures  postalCode             lastSeen  \n0  2016-03-24 00:00:00            0       70435  2016-04-07 03:16:57  \n1  2016-03-24 00:00:00            0       66954  2016-04-07 01:46:50  \n2  2016-03-14 00:00:00            0       90480  2016-04-05 12:47:46  \n3  2016-03-17 00:00:00            0       91074  2016-03-17 17:40:17  \n4  2016-03-31 00:00:00            0       60437  2016-04-06 10:17:21  \n5  2016-04-04 00:00:00            0       33775  2016-04-06 19:17:07  \n6  2016-04-01 00:00:00            0       67112  2016-04-05 18:18:39  \n7  2016-03-21 00:00:00            0       19348  2016-03-25 16:47:58  \n8  2016-04-04 00:00:00            0       94505  2016-04-04 23:42:13  \n9  2016-03-17 00:00:00            0       27472  2016-03-31 17:17:06  \n\n[10 rows x 21 columns]",
      "text/html": "<div>\n<style scoped>\n    .dataframe tbody tr th:only-of-type {\n        vertical-align: middle;\n    }\n\n    .dataframe tbody tr th {\n        vertical-align: top;\n    }\n\n    .dataframe thead th {\n        text-align: right;\n    }\n</style>\n<table border=\"1\" class=\"dataframe\">\n  <thead>\n    <tr style=\"text-align: right;\">\n      <th></th>\n      <th>index</th>\n      <th>dateCrawled</th>\n      <th>name</th>\n      <th>seller</th>\n      <th>offerType</th>\n      <th>price</th>\n      <th>abtest</th>\n      <th>vehicleType</th>\n      <th>yearOfRegistration</th>\n      <th>gearbox</th>\n      <th>...</th>\n      <th>model</th>\n      <th>kilometer</th>\n      <th>monthOfRegistration</th>\n      <th>fuelType</th>\n      <th>brand</th>\n      <th>notRepairedDamage</th>\n      <th>dateCreated</th>\n      <th>nrOfPictures</th>\n      <th>postalCode</th>\n      <th>lastSeen</th>\n    </tr>\n  </thead>\n  <tbody>\n    <tr>\n      <th>0</th>\n      <td>0</td>\n      <td>2016-03-24 11:52:17</td>\n      <td>Golf_3_1.6</td>\n      <td>privat</td>\n      <td>Angebot</td>\n      <td>480</td>\n      <td>test</td>\n      <td>NaN</td>\n      <td>1993</td>\n      <td>manuell</td>\n      <td>...</td>\n      <td>golf</td>\n      <td>150000</td>\n      <td>0</td>\n      <td>benzin</td>\n      <td>volkswagen</td>\n      <td>NaN</td>\n      <td>2016-03-24 00:00:00</td>\n      <td>0</td>\n      <td>70435</td>\n      <td>2016-04-07 03:16:57</td>\n    </tr>\n    <tr>\n      <th>1</th>\n      <td>1</td>\n      <td>2016-03-24 10:58:45</td>\n      <td>A5_Sportback_2.7_Tdi</td>\n      <td>privat</td>\n      <td>Angebot</td>\n      <td>18300</td>\n      <td>test</td>\n      <td>coupe</td>\n      <td>2011</td>\n      <td>manuell</td>\n      <td>...</td>\n      <td>NaN</td>\n      <td>125000</td>\n      <td>5</td>\n      <td>diesel</td>\n      <td>audi</td>\n      <td>ja</td>\n      <td>2016-03-24 00:00:00</td>\n      <td>0</td>\n      <td>66954</td>\n      <td>2016-04-07 01:46:50</td>\n    </tr>\n    <tr>\n      <th>2</th>\n      <td>2</td>\n      <td>2016-03-14 12:52:21</td>\n      <td>Jeep_Grand_Cherokee_\"Overland\"</td>\n      <td>privat</td>\n      <td>Angebot</td>\n      <td>9800</td>\n      <td>test</td>\n      <td>suv</td>\n      <td>2004</td>\n      <td>automatik</td>\n      <td>...</td>\n      <td>grand</td>\n      <td>125000</td>\n      <td>8</td>\n      <td>diesel</td>\n      <td>jeep</td>\n      <td>NaN</td>\n      <td>2016-03-14 00:00:00</td>\n      <td>0</td>\n      <td>90480</td>\n      <td>2016-04-05 12:47:46</td>\n    </tr>\n    <tr>\n      <th>3</th>\n      <td>3</td>\n      <td>2016-03-17 16:54:04</td>\n      <td>GOLF_4_1_4__3TÜRER</td>\n      <td>privat</td>\n      <td>Angebot</td>\n      <td>1500</td>\n      <td>test</td>\n      <td>kleinwagen</td>\n      <td>2001</td>\n      <td>manuell</td>\n      <td>...</td>\n      <td>golf</td>\n      <td>150000</td>\n      <td>6</td>\n      <td>benzin</td>\n      <td>volkswagen</td>\n      <td>nein</td>\n      <td>2016-03-17 00:00:00</td>\n      <td>0</td>\n      <td>91074</td>\n      <td>2016-03-17 17:40:17</td>\n    </tr>\n    <tr>\n      <th>4</th>\n      <td>4</td>\n      <td>2016-03-31 17:25:20</td>\n      <td>Skoda_Fabia_1.4_TDI_PD_Classic</td>\n      <td>privat</td>\n      <td>Angebot</td>\n      <td>3600</td>\n      <td>test</td>\n      <td>kleinwagen</td>\n      <td>2008</td>\n      <td>manuell</td>\n      <td>...</td>\n      <td>fabia</td>\n      <td>90000</td>\n      <td>7</td>\n      <td>diesel</td>\n      <td>skoda</td>\n      <td>nein</td>\n      <td>2016-03-31 00:00:00</td>\n      <td>0</td>\n      <td>60437</td>\n      <td>2016-04-06 10:17:21</td>\n    </tr>\n    <tr>\n      <th>5</th>\n      <td>5</td>\n      <td>2016-04-04 17:36:23</td>\n      <td>BMW_316i___e36_Limousine___Bastlerfahrzeug__Ex...</td>\n      <td>privat</td>\n      <td>Angebot</td>\n      <td>650</td>\n      <td>test</td>\n      <td>limousine</td>\n      <td>1995</td>\n      <td>manuell</td>\n      <td>...</td>\n      <td>3er</td>\n      <td>150000</td>\n      <td>10</td>\n      <td>benzin</td>\n      <td>bmw</td>\n      <td>ja</td>\n      <td>2016-04-04 00:00:00</td>\n      <td>0</td>\n      <td>33775</td>\n      <td>2016-04-06 19:17:07</td>\n    </tr>\n    <tr>\n      <th>6</th>\n      <td>6</td>\n      <td>2016-04-01 20:48:51</td>\n      <td>Peugeot_206_CC_110_Platinum</td>\n      <td>privat</td>\n      <td>Angebot</td>\n      <td>2200</td>\n      <td>test</td>\n      <td>cabrio</td>\n      <td>2004</td>\n      <td>manuell</td>\n      <td>...</td>\n      <td>2_reihe</td>\n      <td>150000</td>\n      <td>8</td>\n      <td>benzin</td>\n      <td>peugeot</td>\n      <td>nein</td>\n      <td>2016-04-01 00:00:00</td>\n      <td>0</td>\n      <td>67112</td>\n      <td>2016-04-05 18:18:39</td>\n    </tr>\n    <tr>\n      <th>7</th>\n      <td>7</td>\n      <td>2016-03-21 18:54:38</td>\n      <td>VW_Derby_Bj_80__Scheunenfund</td>\n      <td>privat</td>\n      <td>Angebot</td>\n      <td>0</td>\n      <td>test</td>\n      <td>limousine</td>\n      <td>1980</td>\n      <td>manuell</td>\n      <td>...</td>\n      <td>andere</td>\n      <td>40000</td>\n      <td>7</td>\n      <td>benzin</td>\n      <td>volkswagen</td>\n      <td>nein</td>\n      <td>2016-03-21 00:00:00</td>\n      <td>0</td>\n      <td>19348</td>\n      <td>2016-03-25 16:47:58</td>\n    </tr>\n    <tr>\n      <th>8</th>\n      <td>8</td>\n      <td>2016-04-04 23:42:13</td>\n      <td>Ford_C___Max_Titanium_1_0_L_EcoBoost</td>\n      <td>privat</td>\n      <td>Angebot</td>\n      <td>14500</td>\n      <td>control</td>\n      <td>bus</td>\n      <td>2014</td>\n      <td>manuell</td>\n      <td>...</td>\n      <td>c_max</td>\n      <td>30000</td>\n      <td>8</td>\n      <td>benzin</td>\n      <td>ford</td>\n      <td>NaN</td>\n      <td>2016-04-04 00:00:00</td>\n      <td>0</td>\n      <td>94505</td>\n      <td>2016-04-04 23:42:13</td>\n    </tr>\n    <tr>\n      <th>9</th>\n      <td>9</td>\n      <td>2016-03-17 10:53:50</td>\n      <td>VW_Golf_4_5_tuerig_zu_verkaufen_mit_Anhaengerk...</td>\n      <td>privat</td>\n      <td>Angebot</td>\n      <td>999</td>\n      <td>test</td>\n      <td>kleinwagen</td>\n      <td>1998</td>\n      <td>manuell</td>\n      <td>...</td>\n      <td>golf</td>\n      <td>150000</td>\n      <td>0</td>\n      <td>NaN</td>\n      <td>volkswagen</td>\n      <td>NaN</td>\n      <td>2016-03-17 00:00:00</td>\n      <td>0</td>\n      <td>27472</td>\n      <td>2016-03-31 17:17:06</td>\n    </tr>\n  </tbody>\n</table>\n<p>10 rows × 21 columns</p>\n</div>"
     },
     "execution_count": 4,
     "metadata": {},
     "output_type": "execute_result"
    }
   ],
   "source": [
    "#Read .csv file\n",
    "#The autos.csv dataset is a comprehensive collection of valuable data about used cars, and provides insight into how the cars are being sold, what price they are being sold for, and all the details about their condition\n",
    "data = pd.read_csv('autos.csv')\n",
    "data.head(10)"
   ],
   "metadata": {
    "collapsed": false,
    "ExecuteTime": {
     "start_time": "2023-04-19T15:15:01.401450Z",
     "end_time": "2023-04-19T15:15:02.772455Z"
    }
   }
  },
  {
   "cell_type": "code",
   "execution_count": 5,
   "outputs": [
    {
     "name": "stdout",
     "output_type": "stream",
     "text": [
      "<class 'pandas.core.frame.DataFrame'>\n",
      "RangeIndex: 371528 entries, 0 to 371527\n",
      "Data columns (total 21 columns):\n",
      " #   Column               Non-Null Count   Dtype \n",
      "---  ------               --------------   ----- \n",
      " 0   index                371528 non-null  int64 \n",
      " 1   dateCrawled          371528 non-null  object\n",
      " 2   name                 371528 non-null  object\n",
      " 3   seller               371528 non-null  object\n",
      " 4   offerType            371528 non-null  object\n",
      " 5   price                371528 non-null  int64 \n",
      " 6   abtest               371528 non-null  object\n",
      " 7   vehicleType          333659 non-null  object\n",
      " 8   yearOfRegistration   371528 non-null  int64 \n",
      " 9   gearbox              351319 non-null  object\n",
      " 10  powerPS              371528 non-null  int64 \n",
      " 11  model                351044 non-null  object\n",
      " 12  kilometer            371528 non-null  int64 \n",
      " 13  monthOfRegistration  371528 non-null  int64 \n",
      " 14  fuelType             338142 non-null  object\n",
      " 15  brand                371528 non-null  object\n",
      " 16  notRepairedDamage    299468 non-null  object\n",
      " 17  dateCreated          371528 non-null  object\n",
      " 18  nrOfPictures         371528 non-null  int64 \n",
      " 19  postalCode           371528 non-null  int64 \n",
      " 20  lastSeen             371528 non-null  object\n",
      "dtypes: int64(8), object(13)\n",
      "memory usage: 59.5+ MB\n"
     ]
    }
   ],
   "source": [
    "data.info() #Get the property of the dataset"
   ],
   "metadata": {
    "collapsed": false,
    "ExecuteTime": {
     "start_time": "2023-04-19T15:16:45.037403Z",
     "end_time": "2023-04-19T15:16:45.582260Z"
    }
   }
  },
  {
   "cell_type": "code",
   "execution_count": 6,
   "outputs": [
    {
     "data": {
      "text/plain": "index                      0\ndateCrawled                0\nname                       0\nseller                     0\nofferType                  0\nprice                      0\nabtest                     0\nvehicleType            37869\nyearOfRegistration         0\ngearbox                20209\npowerPS                    0\nmodel                  20484\nkilometer                  0\nmonthOfRegistration        0\nfuelType               33386\nbrand                      0\nnotRepairedDamage      72060\ndateCreated                0\nnrOfPictures               0\npostalCode                 0\nlastSeen                   0\ndtype: int64"
     },
     "execution_count": 6,
     "metadata": {},
     "output_type": "execute_result"
    }
   ],
   "source": [
    "data.isnull().sum() #Check how many num values"
   ],
   "metadata": {
    "collapsed": false,
    "ExecuteTime": {
     "start_time": "2023-04-19T15:17:05.450832Z",
     "end_time": "2023-04-19T15:17:05.980849Z"
    }
   }
  },
  {
   "cell_type": "code",
   "execution_count": 8,
   "outputs": [
    {
     "data": {
      "text/plain": "count    3.715280e+05\nmean     1.729514e+04\nstd      3.587954e+06\nmin      0.000000e+00\n25%      1.150000e+03\n50%      2.950000e+03\n75%      7.200000e+03\nmax      2.147484e+09\nName: price, dtype: float64"
     },
     "execution_count": 8,
     "metadata": {},
     "output_type": "execute_result"
    }
   ],
   "source": [
    "price = data['price'].describe()\n",
    "price"
   ],
   "metadata": {
    "collapsed": false,
    "ExecuteTime": {
     "start_time": "2023-04-19T18:49:02.705291Z",
     "end_time": "2023-04-19T18:49:02.734060Z"
    }
   }
  },
  {
   "cell_type": "code",
   "execution_count": null,
   "outputs": [],
   "source": [],
   "metadata": {
    "collapsed": false
   }
  }
 ],
 "metadata": {
  "kernelspec": {
   "display_name": "Python 3",
   "language": "python",
   "name": "python3"
  },
  "language_info": {
   "codemirror_mode": {
    "name": "ipython",
    "version": 2
   },
   "file_extension": ".py",
   "mimetype": "text/x-python",
   "name": "python",
   "nbconvert_exporter": "python",
   "pygments_lexer": "ipython2",
   "version": "2.7.6"
  }
 },
 "nbformat": 4,
 "nbformat_minor": 0
}
